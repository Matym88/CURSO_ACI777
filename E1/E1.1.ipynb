{
 "cells": [
  {
   "cell_type": "markdown",
   "source": [
    "# MATIAS MONSALVE 09-09-2021\r\n",
    "\r\n",
    "1.-Crear una carpeta nueva en su repositorio git con el nombre E1 (0.2 pto)\r\n",
    "2.-Dentro de E1 crear una carpeta que se llame data. (0.2 pto)\r\n",
    "3.-Guardar los datos asignados en esa carpeta. (0.2 pto)\r\n",
    "4.-Dentro de E1 debera crear un Jupyter Notebook llamado E1. (0.2 pto)\r\n",
    "5.-En el Jupyter Notebook, configurar la primera casilla en Lenguaje Markdown y escribir su nombre, fecha, y esta lista de     instrucciones de forma ordenada. (0.2 pts)\r\n",
    "6.-Importar la libreria csv y matplotlib.pyplot de python para poder procesar y graficar los datos del archivo. Debe separar el código en las casillas que estime conveniente, pero se solicita minimo que en una casilla esten solo las importaciones, en otra solo la lectura de los datos y otra con los plots, además cada casilla debe tener una casilla previa que describa el código en formato markdown. (2 pts)\r\n",
    "7.-Hacer los gráficos correspondientes al conjunto de datos seleccionado. (1 pts)\r\n",
    "8.-Utilizar los comandos adecuados de git para actualizar su repositorio y dejarlo disponible en github de forma pública. (1 pts)\r\n",
    "9.-Crear su perfil web de github siguiendo este tutorial oficial, sino quiere crearlo sobre ud, puede crearlo sobre algun tema de interés. (1 pts)"
   ],
   "metadata": {}
  },
  {
   "cell_type": "code",
   "execution_count": 794,
   "source": [
    "import csv\r\n",
    "import numpy as np\r\n",
    "import matplotlib.pyplot as plt"
   ],
   "outputs": [],
   "metadata": {}
  },
  {
   "cell_type": "code",
   "execution_count": 795,
   "source": [
    "Paciente_UCI={}\r\n",
    "acomulado_pacientes=0\r\n",
    "suma=0\r\n",
    "fechas=[]\r\n",
    "datos_arica=[]\r\n",
    "datos_tarapaca=[]\r\n",
    "datos_antofagasta=[]\r\n",
    "datos_atacama=[]\r\n",
    "datos_coquimbo=[]\r\n",
    "datos_valparaiso=[]\r\n",
    "datos_metropolitana=[]\r\n",
    "datos_ohiggins=[]\r\n",
    "datos_maule=[]\r\n",
    "datos_ñuble=[]\r\n",
    "datos_biobio=[]\r\n",
    "datos_araucania=[]\r\n",
    "datos_losrios=[]\r\n",
    "datos_loslagos=[]\r\n",
    "datos_aysen=[]\r\n",
    "datos_magallanes=[]\r\n",
    "datos=[]\r\n",
    "\r\n",
    "with open('data/ejercicio.csv') as uci:\r\n",
    "    linea = csv.reader(uci, delimiter = ',')\r\n",
    "    bandera=1\r\n",
    "    bandera2=1\r\n",
    "    contador=1\r\n",
    "    for columna in linea:\r\n",
    "        if bandera==1:\r\n",
    "            for elemento in  columna:\r\n",
    "                if '202' in elemento:\r\n",
    "                    fechas.append(elemento)\r\n",
    "                bandera=0\r\n",
    "        #if  elemento.find(chr(45)):\r\n",
    "            #datos.append(elemento)        \r\n",
    "        #else:\r\n",
    "            #for fecha in fechas:\r\n",
    "               # try:\r\n",
    "                #    Paciente_UCI[fechas][columna[0]]=Paciente_UCI[fechas[0]]+int(columna[3])\r\n",
    "                    \r\n",
    "                #except KeyError:\r\n",
    "                 #   Paciente_UCI[columna[0]]=()\r\n",
    "        if bandera2==1:\r\n",
    "            for elemento in columna:\r\n",
    "                datos.append(elemento)\r\n",
    "                bandera=0\r\n",
    "                #if elemento=='252110':\r\n",
    "                    #for i in range (0,544):\r\n",
    "                        #datos_arica.append(elemento)\r\n",
    "\r\n",
    "\r\n",
    "   "
   ],
   "outputs": [],
   "metadata": {}
  },
  {
   "cell_type": "code",
   "execution_count": 796,
   "source": [
    "Paciente_UCI\r\n",
    "#suma\r\n",
    "\r\n",
    "#regiones=list(Paciente_UCI.keys())\r\n",
    "#print(regiones)"
   ],
   "outputs": [
    {
     "output_type": "execute_result",
     "data": {
      "text/plain": [
       "{}"
      ]
     },
     "metadata": {},
     "execution_count": 796
    }
   ],
   "metadata": {}
  },
  {
   "cell_type": "code",
   "execution_count": 797,
   "source": [
    "#print(fechas)\r\n",
    "#print(datos.remove('Magallanes'))\r\n",
    "\r\n",
    "#datos_magallanes.remove('Magallanes')\r\n",
    "#datos_magallanes.remove('12')\r\n",
    "#datos_magallanes.remove('178362')\r\n"
   ],
   "outputs": [],
   "metadata": {}
  },
  {
   "cell_type": "code",
   "execution_count": 798,
   "source": [
    "#print(datos)\r\n",
    "for i in range (1,547):\r\n",
    "  datos.pop(0)\r\n",
    "  i=i+1\r\n",
    "\r\n",
    "\r\n",
    "#print(datos_arica)\r\n",
    "\r\n",
    "\r\n",
    "for i in range (1,8145):\r\n",
    "  datos.pop(540)\r\n",
    "  i=i+1\r\n",
    "datos.pop(540)\r\n",
    "\r\n",
    "print(datos)\r\n",
    "datos_arica=datos.copy()\r\n",
    "#print('Nuevos datos \\n'+ datos)"
   ],
   "outputs": [
    {
     "output_type": "stream",
     "name": "stdout",
     "text": [
      "['0', '0', '0', '0', '2', '4', '4', '5', '5', '5', '5', '5', '5', '5', '5', '6', '6', '5', '5', '5', '5', '4', '4', '7', '8', '9', '10', '10', '9', '8', '9', '7', '7', '7', '6', '7', '8', '7', '7', '7', '7', '7', '7', '7', '7', '8', '8', '8', '8', '7', '7', '8', '9', '8', '8', '8', '9', '9', '11', '12', '12', '11', '11', '11', '11', '12', '12', '11', '10', '12', '13', '12', '13', '13', '14', '14', '14', '14', '15', '15', '15', '14', '14', '13', '14', '13', '13', '14', '15', '15', '14', '14', '13', '13', '11', '11', '11', '14', '14', '14', '16', '17', '17', '20', '20', '21', '21', '21', '23', '23', '22', '23', '23', '24', '23', '21', '18', '23', '23', '24', '26', '25', '25', '26', '25', '25', '26', '23', '25', '25', '26', '28', '26', '26', '27', '28', '29', '28', '25', '24', '24', '21', '20', '20', '18', '18', '19', '19', '20', '18', '16', '14', '14', '16', '14', '12', '13', '13', '13', '14', '12', '11', '11', '11', '11', '11', '11', '12', '13', '13', '13', '14', '13', '16', '16', '15', '18', '19', '19', '20', '18', '18', '18', '18', '18', '17', '18', '17', '17', '14', '15', '17', '17', '18', '19', '17', '18', '17', '15', '15', '15', '15', '15', '15', '15', '15', '14', '14', '16', '16', '16', '14', '13', '13', '14', '14', '14', '14', '12', '11', '12', '12', '11', '11', '11', '13', '16', '16', '14', '14', '14', '14', '14', '14', '14', '12', '11', '11', '11', '11', '10', '10', '9', '9', '9', '9', '10', '9', '9', '9', '9', '9', '9', '9', '9', '10', '8', '8', '8', '9', '8', '8', '8', '8', '9', '10', '10', '10', '9', '9', '9', '9', '9', '8', '8', '8', '7', '6', '5', '5', '5', '6', '7', '7', '12', '12', '12', '12', '10', '10', '10', '12', '16', '16', '16', '18', '18', '19', '19', '18', '16', '17', '17', '17', '18', '15', '15', '14', '17', '18', '19', '19', '18', '15', '16', '15', '16', '16', '16', '17', '17', '19', '16', '17', '16', '19', '18', '20', '19', '19', '20', '18', '19', '19', '18', '19', '17', '17', '20', '19', '18', '18', '18', '18', '16', '17', '17', '17', '17', '19', '16', '17', '20', '20', '19', '20', '21', '19', '21', '21', '20', '22', '20', '23', '22', '21', '21', '20', '21', '19', '19', '23', '25', '25', '24', '24', '24', '24', '27', '28', '28', '30', '30', '28', '30', '28', '29', '30', '32', '31', '33', '32', '31', '29', '31', '32', '32', '31', '31', '28', '30', '30', '29', '31', '33', '30', '29', '28', '28', '26', '24', '27', '27', '29', '29', '29', '30', '29', '29', '31', '30', '31', '31', '30', '29', '28', '25', '25', '26', '26', '25', '24', '24', '22', '22', '23', '23', '23', '23', '26', '25', '27', '26', '26', '26', '26', '28', '27', '28', '27', '27', '26', '25', '26', '26', '25', '22', '23', '23', '22', '22', '20', '21', '24', '22', '20', '18', '20', '22', '22', '22', '22', '22', '21', '22', '22', '20', '20', '20', '19', '20', '20', '19', '18', '18', '20', '20', '19', '19', '19', '17', '16', '16', '17', '15', '15', '15', '14', '13', '14', '13', '11', '9', '9', '7', '6', '7', '6', '6', '6', '6', '7', '7', '6', '6', '3', '3', '3', '2', '2', '2', '2', '2', '2', '2', '2', '2', '2', '1', '0', '0', '0', '1', '0', '0', '2', '3', '2', '2', '2']\n"
     ]
    }
   ],
   "metadata": {}
  },
  {
   "cell_type": "code",
   "execution_count": 799,
   "source": [
    "print(datos_arica)"
   ],
   "outputs": [
    {
     "output_type": "stream",
     "name": "stdout",
     "text": [
      "['0', '0', '0', '0', '2', '4', '4', '5', '5', '5', '5', '5', '5', '5', '5', '6', '6', '5', '5', '5', '5', '4', '4', '7', '8', '9', '10', '10', '9', '8', '9', '7', '7', '7', '6', '7', '8', '7', '7', '7', '7', '7', '7', '7', '7', '8', '8', '8', '8', '7', '7', '8', '9', '8', '8', '8', '9', '9', '11', '12', '12', '11', '11', '11', '11', '12', '12', '11', '10', '12', '13', '12', '13', '13', '14', '14', '14', '14', '15', '15', '15', '14', '14', '13', '14', '13', '13', '14', '15', '15', '14', '14', '13', '13', '11', '11', '11', '14', '14', '14', '16', '17', '17', '20', '20', '21', '21', '21', '23', '23', '22', '23', '23', '24', '23', '21', '18', '23', '23', '24', '26', '25', '25', '26', '25', '25', '26', '23', '25', '25', '26', '28', '26', '26', '27', '28', '29', '28', '25', '24', '24', '21', '20', '20', '18', '18', '19', '19', '20', '18', '16', '14', '14', '16', '14', '12', '13', '13', '13', '14', '12', '11', '11', '11', '11', '11', '11', '12', '13', '13', '13', '14', '13', '16', '16', '15', '18', '19', '19', '20', '18', '18', '18', '18', '18', '17', '18', '17', '17', '14', '15', '17', '17', '18', '19', '17', '18', '17', '15', '15', '15', '15', '15', '15', '15', '15', '14', '14', '16', '16', '16', '14', '13', '13', '14', '14', '14', '14', '12', '11', '12', '12', '11', '11', '11', '13', '16', '16', '14', '14', '14', '14', '14', '14', '14', '12', '11', '11', '11', '11', '10', '10', '9', '9', '9', '9', '10', '9', '9', '9', '9', '9', '9', '9', '9', '10', '8', '8', '8', '9', '8', '8', '8', '8', '9', '10', '10', '10', '9', '9', '9', '9', '9', '8', '8', '8', '7', '6', '5', '5', '5', '6', '7', '7', '12', '12', '12', '12', '10', '10', '10', '12', '16', '16', '16', '18', '18', '19', '19', '18', '16', '17', '17', '17', '18', '15', '15', '14', '17', '18', '19', '19', '18', '15', '16', '15', '16', '16', '16', '17', '17', '19', '16', '17', '16', '19', '18', '20', '19', '19', '20', '18', '19', '19', '18', '19', '17', '17', '20', '19', '18', '18', '18', '18', '16', '17', '17', '17', '17', '19', '16', '17', '20', '20', '19', '20', '21', '19', '21', '21', '20', '22', '20', '23', '22', '21', '21', '20', '21', '19', '19', '23', '25', '25', '24', '24', '24', '24', '27', '28', '28', '30', '30', '28', '30', '28', '29', '30', '32', '31', '33', '32', '31', '29', '31', '32', '32', '31', '31', '28', '30', '30', '29', '31', '33', '30', '29', '28', '28', '26', '24', '27', '27', '29', '29', '29', '30', '29', '29', '31', '30', '31', '31', '30', '29', '28', '25', '25', '26', '26', '25', '24', '24', '22', '22', '23', '23', '23', '23', '26', '25', '27', '26', '26', '26', '26', '28', '27', '28', '27', '27', '26', '25', '26', '26', '25', '22', '23', '23', '22', '22', '20', '21', '24', '22', '20', '18', '20', '22', '22', '22', '22', '22', '21', '22', '22', '20', '20', '20', '19', '20', '20', '19', '18', '18', '20', '20', '19', '19', '19', '17', '16', '16', '17', '15', '15', '15', '14', '13', '14', '13', '11', '9', '9', '7', '6', '7', '6', '6', '6', '6', '7', '7', '6', '6', '3', '3', '3', '2', '2', '2', '2', '2', '2', '2', '2', '2', '2', '1', '0', '0', '0', '1', '0', '0', '2', '3', '2', '2', '2']\n"
     ]
    }
   ],
   "metadata": {}
  },
  {
   "cell_type": "code",
   "execution_count": 800,
   "source": [
    "Paciente_UCI={}\r\n",
    "acumulado_pacientes=[]\r\n",
    "contador_2=3\r\n",
    "contador=3\r\n",
    "suma=0\r\n",
    "fechas=[]\r\n",
    "datos=[]\r\n",
    "\r\n",
    "with open('data/ejercicio.csv') as uci:\r\n",
    "    linea = csv.reader(uci, delimiter = ',')\r\n",
    "    bandera=1\r\n",
    "    \r\n",
    "    for columna in linea:\r\n",
    "        if bandera==1:\r\n",
    "            for elemento in  columna:\r\n",
    "                if '202' in elemento:\r\n",
    "                    fechas.append(elemento)\r\n",
    "                bandera=0\r\n",
    "                  \r\n",
    "      \r\n",
    "        #else:\r\n",
    "            for elemento in columna:\r\n",
    "                acumulado_pacientes == 0\r\n",
    "                Paciente_UCI[columna[0]]={'aumulado':acumulado_pacientes[0]+int(columna[0])}\r\n",
    "                contador=contador+1\r\n",
    "\r\n",
    "           # for fecha in fechas:\r\n",
    "                #try:\r\n",
    "                    #(Paciente_UCI[fechas])[columna[0]]=str(Paciente_UCI[fechas[0]])\r\n",
    "                    \r\n",
    "                #except KeyError:\r\n",
    "                 #   Paciente_UCI[columna[0]]={'acumulado':suma+int(columna[contador])}\r\n",
    "            #contador=contador+1\r\n",
    "    \r\n",
    "    \r\n"
   ],
   "outputs": [
    {
     "output_type": "error",
     "ename": "IndexError",
     "evalue": "list index out of range",
     "traceback": [
      "\u001b[1;31m---------------------------------------------------------------------------\u001b[0m",
      "\u001b[1;31mIndexError\u001b[0m                                Traceback (most recent call last)",
      "\u001b[1;32m<ipython-input-800-20d58d9fb08b>\u001b[0m in \u001b[0;36m<module>\u001b[1;34m\u001b[0m\n\u001b[0;32m     22\u001b[0m             \u001b[1;32mfor\u001b[0m \u001b[0melemento\u001b[0m \u001b[1;32min\u001b[0m \u001b[0mcolumna\u001b[0m\u001b[1;33m:\u001b[0m\u001b[1;33m\u001b[0m\u001b[1;33m\u001b[0m\u001b[0m\n\u001b[0;32m     23\u001b[0m                 \u001b[0macumulado_pacientes\u001b[0m \u001b[1;33m==\u001b[0m \u001b[1;36m0\u001b[0m\u001b[1;33m\u001b[0m\u001b[1;33m\u001b[0m\u001b[0m\n\u001b[1;32m---> 24\u001b[1;33m                 \u001b[0mPaciente_UCI\u001b[0m\u001b[1;33m[\u001b[0m\u001b[0mcolumna\u001b[0m\u001b[1;33m[\u001b[0m\u001b[1;36m0\u001b[0m\u001b[1;33m]\u001b[0m\u001b[1;33m]\u001b[0m\u001b[1;33m=\u001b[0m\u001b[1;33m{\u001b[0m\u001b[1;34m'aumulado'\u001b[0m\u001b[1;33m:\u001b[0m\u001b[0macumulado_pacientes\u001b[0m\u001b[1;33m[\u001b[0m\u001b[1;36m0\u001b[0m\u001b[1;33m]\u001b[0m\u001b[1;33m+\u001b[0m\u001b[0mint\u001b[0m\u001b[1;33m(\u001b[0m\u001b[0mcolumna\u001b[0m\u001b[1;33m[\u001b[0m\u001b[1;36m0\u001b[0m\u001b[1;33m]\u001b[0m\u001b[1;33m)\u001b[0m\u001b[1;33m}\u001b[0m\u001b[1;33m\u001b[0m\u001b[1;33m\u001b[0m\u001b[0m\n\u001b[0m\u001b[0;32m     25\u001b[0m                 \u001b[0mcontador\u001b[0m\u001b[1;33m=\u001b[0m\u001b[0mcontador\u001b[0m\u001b[1;33m+\u001b[0m\u001b[1;36m1\u001b[0m\u001b[1;33m\u001b[0m\u001b[1;33m\u001b[0m\u001b[0m\n\u001b[0;32m     26\u001b[0m \u001b[1;33m\u001b[0m\u001b[0m\n",
      "\u001b[1;31mIndexError\u001b[0m: list index out of range"
     ]
    }
   ],
   "metadata": {}
  },
  {
   "cell_type": "code",
   "execution_count": null,
   "source": [
    "Paciente_UCI\r\n",
    "#suma\r\n",
    "\r\n",
    "#regiones=list(Paciente_UCI.keys())\r\n",
    "#print(regiones)"
   ],
   "outputs": [
    {
     "output_type": "execute_result",
     "data": {
      "text/plain": [
       "{}"
      ]
     },
     "metadata": {},
     "execution_count": 346
    }
   ],
   "metadata": {}
  },
  {
   "cell_type": "code",
   "execution_count": null,
   "source": [
    "#Paciente_UCI.keys()\r\n",
    "list(Paciente_UCI.keys())"
   ],
   "outputs": [
    {
     "output_type": "execute_result",
     "data": {
      "text/plain": [
       "[]"
      ]
     },
     "metadata": {},
     "execution_count": 347
    }
   ],
   "metadata": {}
  },
  {
   "cell_type": "code",
   "execution_count": null,
   "source": [
    "fig, ax =plt.subplots()\r\n",
    "\r\n",
    "hombres=[]\r\n",
    "\r\n",
    "regiones=list(Paciente_UCI.keys())\r\n",
    "\r\n",
    "for region in regiones:\r\n",
    "    hombres.append(Paciente_UCI[region]['acumulado'])\r\n",
    "\r\n",
    "ejeX= np.arange(len(regiones))\r\n",
    "print(ejeX)\r\n",
    "ancho=0.5\r\n",
    "barraH= ax.barh(ejeX - ancho/2,hombres,ancho,label='hombres',color='red')\r\n",
    "\r\n",
    "ax.set_ylabel('cantidad de personas en camas UCI')\r\n",
    "ax.set_title('ingresos UCI por region en el tiempo')\r\n",
    "ax.legend()\r\n",
    "ax.set_yticks(ejeX)\r\n",
    "ax.set_yticklabels(regiones)\r\n",
    "\r\n",
    "\r\n"
   ],
   "outputs": [
    {
     "output_type": "stream",
     "name": "stdout",
     "text": [
      "[]\n"
     ]
    },
    {
     "output_type": "execute_result",
     "data": {
      "text/plain": [
       "[]"
      ]
     },
     "metadata": {},
     "execution_count": 348
    },
    {
     "output_type": "display_data",
     "data": {
      "image/png": "[encoded data removed]",
      "text/plain": [
       "<Figure size 432x288 with 1 Axes>"
      ]
     },
     "metadata": {
      "needs_background": "light"
     }
    }
   ],
   "metadata": {}
  },
  {
   "cell_type": "code",
   "execution_count": null,
   "source": [],
   "outputs": [],
   "metadata": {}
  }
 ],
 "metadata": {
  "orig_nbformat": 4,
  "language_info": {
   "name": "python",
   "version": "3.8.8",
   "mimetype": "text/x-python",
   "codemirror_mode": {
    "name": "ipython",
    "version": 3
   },
   "pygments_lexer": "ipython3",
   "nbconvert_exporter": "python",
   "file_extension": ".py"
  },
  "kernelspec": {
   "name": "python3",
   "display_name": "Python 3.8.8 64-bit ('base': conda)"
  },
  "interpreter": {
   "hash": "fd482b7cd4264c5ef4566bc86a2ab8bd2bb23c50b3c7d4b1f3e5fd5095eeae80"
  }
 },
 "nbformat": 4,
 "nbformat_minor": 2
}